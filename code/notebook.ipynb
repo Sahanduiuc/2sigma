{
 "cells": [
  {
   "cell_type": "code",
   "execution_count": 1,
   "metadata": {
    "collapsed": false
   },
   "outputs": [
    {
     "ename": "ImportError",
     "evalue": "No module named 'kagglegym'",
     "output_type": "error",
     "traceback": [
      "\u001b[0;31m---------------------------------------------------------------------------\u001b[0m",
      "\u001b[0;31mImportError\u001b[0m                               Traceback (most recent call last)",
      "\u001b[0;32m<ipython-input-1-535bc4bebcaf>\u001b[0m in \u001b[0;36m<module>\u001b[0;34m()\u001b[0m\n\u001b[1;32m     31\u001b[0m \u001b[0;34m\u001b[0m\u001b[0m\n\u001b[1;32m     32\u001b[0m \u001b[0;34m\u001b[0m\u001b[0m\n\u001b[0;32m---> 33\u001b[0;31m \u001b[0;32mimport\u001b[0m \u001b[0mkagglegym\u001b[0m\u001b[0;34m\u001b[0m\u001b[0m\n\u001b[0m\u001b[1;32m     34\u001b[0m \u001b[0menv\u001b[0m \u001b[0;34m=\u001b[0m \u001b[0mkagglegym\u001b[0m\u001b[0;34m.\u001b[0m\u001b[0mmake\u001b[0m\u001b[0;34m(\u001b[0m\u001b[0;34m)\u001b[0m\u001b[0;34m\u001b[0m\u001b[0m\n\u001b[1;32m     35\u001b[0m \u001b[0mo\u001b[0m \u001b[0;34m=\u001b[0m \u001b[0menv\u001b[0m\u001b[0;34m.\u001b[0m\u001b[0mreset\u001b[0m\u001b[0;34m(\u001b[0m\u001b[0;34m)\u001b[0m\u001b[0;34m\u001b[0m\u001b[0m\n",
      "\u001b[0;31mImportError\u001b[0m: No module named 'kagglegym'"
     ]
    }
   ],
   "source": [
    "%matplotlib inline\n",
    "import numpy as np\n",
    "import pandas as pd\n",
    "import random\n",
    "from sklearn.metrics import r2_score\n",
    "from sklearn import ensemble, linear_model, metrics\n",
    "import lightgbm as lgb\n",
    "from sklearn.model_selection import train_test_split\n",
    "import matplotlib.pyplot as plt\n",
    "import gc\n",
    "from tqdm import *\n",
    "\n",
    "plt.style.use('ggplot')\n",
    "pd.options.mode.chained_assignment = None\n",
    "\n",
    "\n",
    "def r_score(y_true, y_pred, sample_weight=None, multioutput=None):\n",
    "    r2 = r2_score(y_true, y_pred, sample_weight=sample_weight,\n",
    "                  multioutput=multioutput)\n",
    "    r = (np.sign(r2) * np.sqrt(np.abs(r2)))\n",
    "    if r <= -1:\n",
    "        return -1\n",
    "    else:\n",
    "        return r\n",
    "\n",
    "\n",
    "def print_full(x):\n",
    "    pd.set_option('display.max_rows', len(x))\n",
    "    print(x)\n",
    "    pd.reset_option('display.max_rows')\n",
    "\n",
    "\n",
    "import kagglegym\n",
    "env = kagglegym.make()\n",
    "o = env.reset()\n",
    "train = o.train\n",
    "\n",
    "# train = pd.read_hdf('../input/train.h5')\n",
    "\n",
    "low_y_cut = -0.086093\n",
    "high_y_cut = 0.093497\n",
    "\n",
    "y_is_above_cut = (train.y > high_y_cut)\n",
    "y_is_below_cut = (train.y < low_y_cut)\n",
    "y_is_within_cut = (~y_is_above_cut & ~y_is_below_cut)\n",
    "train = train.loc[y_is_within_cut, :]\n",
    "\n",
    "d_mean = train.median(axis=0)\n",
    "train[\"nbnulls\"] = train.isnull().sum(axis=1)\n",
    "col = [x for x in train.columns if x not in ['id', 'timestamp', 'y']]\n",
    "\n",
    "rnd = 17\n",
    "\n",
    "# columns kept for evolution from one month to another (best selected by the tree algorithms)\n",
    "add_diff_ft = True\n",
    "diff_cols =  ['technical_17', 'technical_30', 'technical_33',\n",
    "       'technical_11', 'technical_20', 'technical_21',\n",
    "       'technical_2', 'technical_24', 'technical_41', 'technical_3',\n",
    "       'technical_19', 'technical_40', 'technical_27', 'technical_6',\n",
    "       'technical_35', 'technical_1', 'technical_31', 'fundamental_44']\n",
    "\n",
    "if add_diff_ft:\n",
    "    train = train.sort_values(by=['id', 'timestamp'])\n",
    "    for elt in diff_cols:\n",
    "        # a quick way to obtain deltas from one month to another but it is false on the first\n",
    "        # month of each id\n",
    "        train[elt + \"_d\"] = train[elt].rolling(2).apply(lambda x: x[1] - x[0]).fillna(0)\n",
    "        gc.collect()\n",
    "    # removing month 0 to reduce the impact of erroneous deltas\n",
    "    train = train[train.timestamp != 0]\n",
    "\n",
    "bad_cols = ['technical_32', 'fundamental_3', 'fundamental_9', 'technical_34',\n",
    "       'fundamental_27', 'technical_10', 'technical_18', 'fundamental_28',\n",
    "       'technical_39', 'fundamental_63', 'fundamental_26',\n",
    "       'fundamental_61', 'fundamental_1', 'technical_22', 'fundamental_38',\n",
    "       'fundamental_6', 'technical_9', 'fundamental_57']\n",
    "cols = [x for x in train.columns if x not in (['id', 'timestamp', 'y', 'sample'] + bad_cols)]"
   ]
  },
  {
   "cell_type": "code",
   "execution_count": null,
   "metadata": {
    "collapsed": false
   },
   "outputs": [],
   "source": [
    "verbose = 1\n",
    "plot = 1\n",
    "params = {\n",
    "    'task': 'train',\n",
    "    'boosting_type': 'dart',\n",
    "    'objective': 'regression',\n",
    "    'verbose': verbose,\n",
    "    # 'num_leaves': 1024,\n",
    "    # 'learning_rate': 0.05,\n",
    "    # 'feature_fraction': 0.9,\n",
    "    # 'bagging_fraction': 0.8,\n",
    "    # 'bagging_freq': 5,\n",
    "    # 'max_bin': 512,\n",
    "    # 'num_iterations':20\n",
    "}\n",
    "\n",
    "X_train, X_test, y_train, y_test = train_test_split(train[cols], train.y, test_size=0.2, random_state=0)\n",
    "train_data = lgb.Dataset(X_train, y_train)\n",
    "gc.collect()\n",
    "bst = lgb.train(params, train_data, feval=r_score, verbose_eval=verbose)\n",
    "\n",
    "df_fi = pd.DataFrame(bst.feature_name(), columns=['feature'])\n",
    "df_fi['importance'] = list(bst.feature_importance('gain'))\n",
    "df_fi.sort_values('importance', ascending=False, inplace=True)\n",
    "print_full(df_fi)\n",
    "if plot:\n",
    "    plt.figure()\n",
    "    df_fi.head(10).plot(kind='barh',\n",
    "                        x='feature',\n",
    "                        y='importance',\n",
    "                        sort_columns=False,\n",
    "                        legend=False,\n",
    "                        figsize=(10, 6),\n",
    "                        facecolor='#1DE9B6',\n",
    "                        edgecolor='white')\n",
    "\n",
    "    plt.title('LightGBM Feature Importance')\n",
    "    plt.xlabel('relative importance')\n",
    "    plt.show()\n",
    "\n",
    "if verbose:\n",
    "    y_pred = bst.predict(X_test)\n",
    "    print('\\nScore for another fold: ', r_score(y_test, y_pred))\n"
   ]
  },
  {
   "cell_type": "code",
   "execution_count": 25,
   "metadata": {
    "collapsed": false
   },
   "outputs": [],
   "source": [
    "df_fi = pd.read_csv('fi.txt', delim_whitespace=True)\n",
    "top_cols = df_fi['feature'].iloc[:20]\n",
    "worst_cols = df_fi['feature'].iloc[-20:]\n"
   ]
  },
  {
   "cell_type": "code",
   "execution_count": 2,
   "metadata": {
    "collapsed": false
   },
   "outputs": [
    {
     "ename": "SystemError",
     "evalue": "Parent module '' not loaded, cannot perform relative import",
     "output_type": "error",
     "traceback": [
      "\u001b[0;31m---------------------------------------------------------------------------\u001b[0m",
      "\u001b[0;31mSystemError\u001b[0m                               Traceback (most recent call last)",
      "\u001b[0;32m<ipython-input-2-ebdf720c678b>\u001b[0m in \u001b[0;36m<module>\u001b[0;34m()\u001b[0m\n\u001b[1;32m      1\u001b[0m \u001b[0;32mimport\u001b[0m \u001b[0mseaborn\u001b[0m \u001b[0;32mas\u001b[0m \u001b[0msns\u001b[0m\u001b[0;34m\u001b[0m\u001b[0m\n\u001b[0;32m----> 2\u001b[0;31m \u001b[0;32mfrom\u001b[0m \u001b[0mtsne\u001b[0m \u001b[0;32mimport\u001b[0m \u001b[0mbh_sne\u001b[0m\u001b[0;34m\u001b[0m\u001b[0m\n\u001b[0m\u001b[1;32m      3\u001b[0m \u001b[0mX_2d\u001b[0m \u001b[0;34m=\u001b[0m \u001b[0mbh_sne\u001b[0m\u001b[0;34m(\u001b[0m\u001b[0mtrain\u001b[0m\u001b[0;34m[\u001b[0m\u001b[0mcols\u001b[0m\u001b[0;34m]\u001b[0m\u001b[0;34m)\u001b[0m\u001b[0;34m\u001b[0m\u001b[0m\n\u001b[1;32m      4\u001b[0m \u001b[0;34m\u001b[0m\u001b[0m\n",
      "\u001b[0;32m/usr/local/lib/python3.5/dist-packages/tsne/__init__.py\u001b[0m in \u001b[0;36m<module>\u001b[0;34m()\u001b[0m\n\u001b[1;32m      4\u001b[0m \u001b[0;32mimport\u001b[0m \u001b[0mscipy\u001b[0m\u001b[0;34m.\u001b[0m\u001b[0mlinalg\u001b[0m \u001b[0;32mas\u001b[0m \u001b[0mla\u001b[0m\u001b[0;34m\u001b[0m\u001b[0m\n\u001b[1;32m      5\u001b[0m \u001b[0;32mimport\u001b[0m \u001b[0msys\u001b[0m\u001b[0;34m\u001b[0m\u001b[0m\n\u001b[0;32m----> 6\u001b[0;31m \u001b[0;32mfrom\u001b[0m \u001b[0mbh_sne\u001b[0m \u001b[0;32mimport\u001b[0m \u001b[0mBH_SNE\u001b[0m\u001b[0;34m\u001b[0m\u001b[0m\n\u001b[0m\u001b[1;32m      7\u001b[0m \u001b[0;34m\u001b[0m\u001b[0m\n\u001b[1;32m      8\u001b[0m def bh_sne(data, pca_d=None, d=2, perplexity=30., theta=0.5,\n",
      "\u001b[0;32mtsne/bh_sne.pyx\u001b[0m in \u001b[0;36minit tsne.bh_sne (tsne/bh_sne.cpp:4223)\u001b[0;34m()\u001b[0m\n",
      "\u001b[0;31mSystemError\u001b[0m: Parent module '' not loaded, cannot perform relative import"
     ]
    }
   ],
   "source": [
    "import seaborn as sns\n",
    "from tsne import bh_sne\n",
    "X_2d = bh_sne(train[cols])\n",
    "\n"
   ]
  },
  {
   "cell_type": "code",
   "execution_count": null,
   "metadata": {
    "collapsed": true
   },
   "outputs": [],
   "source": []
  }
 ],
 "metadata": {
  "kernelspec": {
   "display_name": "Python 3",
   "language": "python",
   "name": "python3"
  },
  "language_info": {
   "codemirror_mode": {
    "name": "ipython",
    "version": 3
   },
   "file_extension": ".py",
   "mimetype": "text/x-python",
   "name": "python",
   "nbconvert_exporter": "python",
   "pygments_lexer": "ipython3",
   "version": "3.5.2"
  }
 },
 "nbformat": 4,
 "nbformat_minor": 0
}
